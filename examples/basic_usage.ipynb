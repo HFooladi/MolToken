{
 "cells": [
  {
   "cell_type": "markdown",
   "metadata": {},
   "source": [
    "1. Simple Example: Loading and Tokenizing a Single Molecule\n"
   ]
  },
  {
   "cell_type": "code",
   "execution_count": null,
   "metadata": {},
   "outputs": [],
   "source": [
    "import numpy as np\n",
    "from rdkit import Chem\n",
    "from rdkit.Chem import AllChem\n",
    "from moltoken.tokenizer import MoleculeTokenizer\n",
    "\n",
    "# Initialize the tokenizer\n",
    "tokenizer = MoleculeTokenizer(\n",
    "    max_atoms=50,\n",
    "    spatial_resolution=0.1,\n",
    "    consider_bonds=True\n",
    ")\n",
    "\n",
    "# Create a simple molecule (ethanol in this case)\n",
    "mol = Chem.MolFromSmiles('CCO')\n",
    "mol = Chem.AddHs(mol)  # Add hydrogen atoms\n",
    "AllChem.EmbedMolecule(mol)  # Generate 3D coordinates\n",
    "\n",
    "# Get coordinates and atom types\n",
    "conf = mol.GetConformer()\n",
    "coordinates = conf.GetPositions()\n",
    "atom_types = [atom.GetSymbol() for atom in mol.GetAtoms()]\n",
    "\n",
    "# Get bonds\n",
    "bonds = []\n",
    "for bond in mol.GetBonds():\n",
    "    bonds.append((\n",
    "        bond.GetBeginAtomIdx(),\n",
    "        bond.GetEndAtomIdx(),\n",
    "        bond.GetBondTypeAsDouble()\n",
    "    ))\n",
    "\n",
    "# Tokenize the molecule\n",
    "tokens = tokenizer.encode_molecule(\n",
    "    coordinates=coordinates,\n",
    "    atom_types=atom_types,\n",
    "    bonds=bonds\n",
    ")\n",
    "\n",
    "print(f\"Generated tokens: {tokens}\")\n",
    "\n",
    "# Decode back to molecular representation\n",
    "reconstructed_coords, reconstructed_atoms, reconstructed_bonds = tokenizer.decode_to_molecule(tokens)\n",
    "\n",
    "print(\"\\nOriginal structure:\")\n",
    "print(f\"Atoms: {atom_types}\")\n",
    "print(f\"Coordinates shape: {coordinates.shape}\")\n",
    "print(f\"Number of bonds: {len(bonds)}\")\n",
    "\n",
    "print(\"\\nReconstructed structure:\")\n",
    "print(f\"Atoms: {reconstructed_atoms}\")\n",
    "print(f\"Coordinates shape: {reconstructed_coords.shape}\")\n",
    "print(f\"Number of bonds: {len(reconstructed_bonds)}\")"
   ]
  },
  {
   "cell_type": "markdown",
   "metadata": {},
   "source": [
    "2. Visualizing the Tokenization\n"
   ]
  },
  {
   "cell_type": "code",
   "execution_count": null,
   "metadata": {},
   "outputs": [],
   "source": [
    "from moltoken.visualization import MoleculeVisualizer\n",
    "\n",
    "visualizer = MoleculeVisualizer()\n",
    "\n",
    "# Plot token distribution\n",
    "visualizer.plot_token_distribution(tokens)\n",
    "\n",
    "# Visualize the molecule with token assignments\n",
    "visualizer.visualize_attention(mol, attention_weights=None)"
   ]
  },
  {
   "cell_type": "markdown",
   "metadata": {},
   "source": [
    "3. Batch Processing Multiple Molecules\n"
   ]
  },
  {
   "cell_type": "code",
   "execution_count": null,
   "metadata": {},
   "outputs": [],
   "source": [
    "# Process a list of SMILES strings\n",
    "smiles_list = ['CCO', 'CC(=O)O', 'c1ccccc1']\n",
    "all_tokens = []\n",
    "\n",
    "for smiles in smiles_list:\n",
    "    # Convert SMILES to 3D structure\n",
    "    mol = Chem.MolFromSmiles(smiles)\n",
    "    mol = Chem.AddHs(mol)\n",
    "    AllChem.EmbedMolecule(mol)\n",
    "    \n",
    "    # Extract molecular information\n",
    "    conf = mol.GetConformer()\n",
    "    coordinates = conf.GetPositions()\n",
    "    atom_types = [atom.GetSymbol() for atom in mol.GetAtoms()]\n",
    "    \n",
    "    bonds = []\n",
    "    for bond in mol.GetBonds():\n",
    "        bonds.append((\n",
    "            bond.GetBeginAtomIdx(),\n",
    "            bond.GetEndAtomIdx(),\n",
    "            bond.GetBondTypeAsDouble()\n",
    "        ))\n",
    "    \n",
    "    # Tokenize\n",
    "    tokens = tokenizer.encode_molecule(\n",
    "        coordinates=coordinates,\n",
    "        atom_types=atom_types,\n",
    "        bonds=bonds\n",
    "    )\n",
    "    all_tokens.append(tokens)\n",
    "\n",
    "print(\"Tokens for each molecule:\")\n",
    "for smiles, tokens in zip(smiles_list, all_tokens):\n",
    "    print(f\"{smiles}: {tokens}\")"
   ]
  },
  {
   "cell_type": "markdown",
   "metadata": {},
   "source": [
    "4. Working with Different File Formats\n"
   ]
  },
  {
   "cell_type": "code",
   "execution_count": null,
   "metadata": {},
   "outputs": [],
   "source": [
    "# Reading from different file formats\n",
    "from moltoken.data import MoleculeProcessor\n",
    "\n",
    "processor = MoleculeProcessor()\n",
    "\n",
    "# From PDB file\n",
    "pdb_file = \"example.pdb\"\n",
    "coords_pdb, atoms_pdb, bonds_pdb = processor.read_pdb(pdb_file)\n",
    "tokens_pdb = tokenizer.encode_molecule(coords_pdb, atoms_pdb, bonds_pdb)\n",
    "\n",
    "# From MOL file\n",
    "mol_file = \"example.mol\"\n",
    "coords_mol, atoms_mol, bonds_mol = processor.read_mol(mol_file)\n",
    "tokens_mol = tokenizer.encode_molecule(coords_mol, atoms_mol, bonds_mol)"
   ]
  },
  {
   "cell_type": "markdown",
   "metadata": {},
   "source": [
    "5. Advanced Usage: Rotation Invariance\n"
   ]
  },
  {
   "cell_type": "code",
   "execution_count": null,
   "metadata": {},
   "outputs": [],
   "source": [
    "# Generate rotated versions of a molecule\n",
    "rotated_coords = processor.generate_rotations(coordinates, n_rotations=4)\n",
    "\n",
    "# Check that tokens are the same for all rotations\n",
    "rotation_tokens = []\n",
    "for coords in rotated_coords:\n",
    "    tokens = tokenizer.encode_molecule(coords, atom_types, bonds)\n",
    "    rotation_tokens.append(tokens)\n",
    "\n",
    "# All rotations should give similar tokens\n",
    "for i, tokens in enumerate(rotation_tokens):\n",
    "    print(f\"Rotation {i}: {tokens}\")"
   ]
  }
 ],
 "metadata": {
  "kernelspec": {
   "display_name": "LLM",
   "language": "python",
   "name": "python3"
  },
  "language_info": {
   "name": "python",
   "version": "3.9.16"
  }
 },
 "nbformat": 4,
 "nbformat_minor": 2
}
